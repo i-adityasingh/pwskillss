{
 "cells": [
  {
   "cell_type": "code",
   "execution_count": 4,
   "id": "2b28eb6a-4cc1-4164-9143-e1a975a496d6",
   "metadata": {},
   "outputs": [],
   "source": [
    "def test( a , b ):\n",
    "    return a+b"
   ]
  },
  {
   "cell_type": "code",
   "execution_count": 5,
   "id": "d1db8393-5901-4f76-a46a-885470d94ee3",
   "metadata": {},
   "outputs": [
    {
     "data": {
      "text/plain": [
       "7"
      ]
     },
     "execution_count": 5,
     "metadata": {},
     "output_type": "execute_result"
    }
   ],
   "source": [
    "test(3,4)"
   ]
  },
  {
   "cell_type": "code",
   "execution_count": 6,
   "id": "869aa2a8-4fe6-47d5-9fd1-453de6851505",
   "metadata": {},
   "outputs": [
    {
     "data": {
      "text/plain": [
       "'sudh  kumar'"
      ]
     },
     "execution_count": 6,
     "metadata": {},
     "output_type": "execute_result"
    }
   ],
   "source": [
    "test(\"sudh \",\" kumar\")"
   ]
  },
  {
   "cell_type": "code",
   "execution_count": 7,
   "id": "35e7a13a-1811-4c1a-8b35-8af2bc2b9911",
   "metadata": {},
   "outputs": [
    {
     "data": {
      "text/plain": [
       "[3, 4, 5, 6, 45, 767, 67]"
      ]
     },
     "execution_count": 7,
     "metadata": {},
     "output_type": "execute_result"
    }
   ],
   "source": [
    "test([3,4,5,6],[45,767,67])"
   ]
  },
  {
   "cell_type": "code",
   "execution_count": 8,
   "id": "0ec9d6ec-3756-42fa-8032-f4e6f0f78478",
   "metadata": {},
   "outputs": [],
   "source": [
    "class data_science:\n",
    "    \n",
    "    def syllabus(self):\n",
    "        print(\"this is my syllabus for data science\")"
   ]
  },
  {
   "cell_type": "code",
   "execution_count": 9,
   "id": "72416913-e203-411e-bc73-80c11d5edf47",
   "metadata": {},
   "outputs": [],
   "source": [
    "class web_dev:\n",
    "    def syllabus(self):\n",
    "        print(\"this is my syallabus for web dev\")"
   ]
  },
  {
   "cell_type": "code",
   "execution_count": 10,
   "id": "8d78293c-a7e4-41a7-a48c-0f5ad6440565",
   "metadata": {},
   "outputs": [],
   "source": [
    "def class_parcel(class_object):\n",
    "    for i in class_object:\n",
    "        i.syllabus()"
   ]
  },
  {
   "cell_type": "code",
   "execution_count": 11,
   "id": "0c913085-acb0-4683-a7d9-f03910ddf578",
   "metadata": {},
   "outputs": [],
   "source": [
    "data_science = data_science()"
   ]
  },
  {
   "cell_type": "code",
   "execution_count": 12,
   "id": "7b6afb38-e156-4067-86a8-c617a0f46031",
   "metadata": {},
   "outputs": [],
   "source": [
    "web_dev = web_dev()"
   ]
  },
  {
   "cell_type": "code",
   "execution_count": 14,
   "id": "4345fb67-7d7c-43be-a7ba-92996ffebe33",
   "metadata": {},
   "outputs": [],
   "source": [
    "class_object = [data_science , web_dev]"
   ]
  },
  {
   "cell_type": "code",
   "execution_count": 15,
   "id": "b6951687-8966-4881-a19e-7aa2d1811ec3",
   "metadata": {},
   "outputs": [
    {
     "name": "stdout",
     "output_type": "stream",
     "text": [
      "this is my syllabus for data science\n",
      "this is my syallabus for web dev\n"
     ]
    }
   ],
   "source": [
    "class_parcel(class_object)"
   ]
  },
  {
   "cell_type": "code",
   "execution_count": null,
   "id": "a4491dd7-aec5-4424-9ecf-3d6dcaaf73f4",
   "metadata": {},
   "outputs": [],
   "source": []
  }
 ],
 "metadata": {
  "kernelspec": {
   "display_name": "Python 3 (ipykernel)",
   "language": "python",
   "name": "python3"
  },
  "language_info": {
   "codemirror_mode": {
    "name": "ipython",
    "version": 3
   },
   "file_extension": ".py",
   "mimetype": "text/x-python",
   "name": "python",
   "nbconvert_exporter": "python",
   "pygments_lexer": "ipython3",
   "version": "3.10.8"
  }
 },
 "nbformat": 4,
 "nbformat_minor": 5
}
